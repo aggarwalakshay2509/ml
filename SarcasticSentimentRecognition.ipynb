{
  "nbformat": 4,
  "nbformat_minor": 0,
  "metadata": {
    "colab": {
      "provenance": [],
      "authorship_tag": "ABX9TyPXQ8JlcpRYnAbAXxrWVnhs",
      "include_colab_link": true
    },
    "kernelspec": {
      "name": "python3",
      "display_name": "Python 3"
    },
    "language_info": {
      "name": "python"
    },
    "gpuClass": "standard"
  },
  "cells": [
    {
      "cell_type": "markdown",
      "metadata": {
        "id": "view-in-github",
        "colab_type": "text"
      },
      "source": [
        "<a href=\"https://colab.research.google.com/github/aggarwalakshay2509/ml/blob/main/SarcasticSentimentRecognition.ipynb\" target=\"_parent\"><img src=\"https://colab.research.google.com/assets/colab-badge.svg\" alt=\"Open In Colab\"/></a>"
      ]
    },
    {
      "cell_type": "code",
      "execution_count": null,
      "metadata": {
        "id": "GP8yjO5qYUer"
      },
      "outputs": [],
      "source": [
        "import json"
      ]
    },
    {
      "cell_type": "code",
      "source": [
        "with open('sarcasm.json','r') as f:\n",
        "  dataset=json.load(f)\n",
        "print(type(dataset))\n",
        "sentences=[]\n",
        "labels=[]\n",
        "urls=[]\n",
        "for item in dataset:\n",
        "  sentences.append(item['headline'])\n",
        "  labels.append(item['is_sarcastic'])\n",
        "  urls.append(item['article_link'])"
      ],
      "metadata": {
        "id": "amshadlJYqez",
        "colab": {
          "base_uri": "https://localhost:8080/"
        },
        "outputId": "7f03ebb2-b652-4791-cdcc-6ab287427913"
      },
      "execution_count": null,
      "outputs": [
        {
          "output_type": "stream",
          "name": "stdout",
          "text": [
            "<class 'list'>\n"
          ]
        }
      ]
    },
    {
      "cell_type": "code",
      "source": [
        "print(sentences[0])\n",
        "print(labels[0])"
      ],
      "metadata": {
        "colab": {
          "base_uri": "https://localhost:8080/"
        },
        "id": "5GN38jE-BuW7",
        "outputId": "b2e34529-221f-4ce7-9ac3-16e1fcf57e8e"
      },
      "execution_count": null,
      "outputs": [
        {
          "output_type": "stream",
          "name": "stdout",
          "text": [
            "former versace store clerk sues over secret 'black code' for minority shoppers\n",
            "0\n"
          ]
        }
      ]
    },
    {
      "cell_type": "code",
      "source": [
        "from tensorflow import keras\n",
        "from tensorflow.keras.preprocessing.text import Tokenizer\n",
        "from tensorflow.keras.preprocessing.sequence import pad_sequences\n",
        "import numpy as np"
      ],
      "metadata": {
        "id": "djQUEZqZB6fH"
      },
      "execution_count": null,
      "outputs": []
    },
    {
      "cell_type": "code",
      "source": [
        "training_size=20000\n",
        "training_sentences=sentences[:training_size]\n",
        "testing_sentences=sentences[training_size:]\n",
        "training_labels=labels[:training_size]\n",
        "testing_labels=labels[training_size:]\n",
        "training_labels=np.array(training_labels)\n",
        "testing_labels=np.array(testing_labels)"
      ],
      "metadata": {
        "id": "VenqCZ0UCzuH"
      },
      "execution_count": null,
      "outputs": []
    },
    {
      "cell_type": "code",
      "source": [
        "vocab_size=20000\n",
        "max_length=30\n",
        "\n",
        "tokenizer=Tokenizer(num_words=vocab_size,oov_token=\"<OOV>\")\n",
        "tokenizer.fit_on_texts(training_sentences)\n",
        "word_index=tokenizer.word_index\n",
        "\n",
        "training_sequences=tokenizer.texts_to_sequences(training_sentences)\n",
        "training_padded=pad_sequences(training_sequences,padding=\"post\",maxlen=max_length)\n",
        "\n",
        "testing_sequences=tokenizer.texts_to_sequences(testing_sentences)\n",
        "testing_padded=pad_sequences(testing_sequences,padding=\"post\",maxlen=max_length)\n",
        "\n",
        "print(vocab_size,max_length)\n",
        "\n",
        "print(training_padded[0])\n",
        "\n",
        "print(training_padded.shape)"
      ],
      "metadata": {
        "id": "dWJHWcQ5D4Xy",
        "colab": {
          "base_uri": "https://localhost:8080/"
        },
        "outputId": "f365c4a9-f5de-4fa2-d61d-e24d6c9aeb6b"
      },
      "execution_count": null,
      "outputs": [
        {
          "output_type": "stream",
          "name": "stdout",
          "text": [
            "20000 30\n",
            "[  328 12776   799  3405  2404    47   389  2214 12777     6  2614  8863\n",
            "     0     0     0     0     0     0     0     0     0     0     0     0\n",
            "     0     0     0     0     0     0]\n",
            "(20000, 30)\n"
          ]
        }
      ]
    },
    {
      "cell_type": "code",
      "source": [
        "def get_key(val):\n",
        "  for key,value in word_index.items():\n",
        "    if value==val:\n",
        "      return key"
      ],
      "metadata": {
        "id": "hYhuyFKvE9JK"
      },
      "execution_count": null,
      "outputs": []
    },
    {
      "cell_type": "code",
      "source": [
        "print(training_sentences[0])\n",
        "print(training_sequences[0])\n",
        "print(training_padded[0])\n",
        "print(word_index['former'])\n",
        "print(type(training_padded[0]))\n",
        "print(type(training_labels[0]))"
      ],
      "metadata": {
        "colab": {
          "base_uri": "https://localhost:8080/"
        },
        "id": "p_L8OsSmFNQG",
        "outputId": "a0e3dead-13b4-4794-b128-9f0d4f3d142d"
      },
      "execution_count": null,
      "outputs": [
        {
          "output_type": "stream",
          "name": "stdout",
          "text": [
            "former versace store clerk sues over secret 'black code' for minority shoppers\n",
            "[328, 12776, 799, 3405, 2404, 47, 389, 2214, 12777, 6, 2614, 8863]\n",
            "[  328 12776   799  3405  2404    47   389  2214 12777     6  2614  8863\n",
            "     0     0     0     0     0     0     0     0     0     0     0     0\n",
            "     0     0     0     0     0     0]\n",
            "328\n",
            "<class 'numpy.ndarray'>\n",
            "<class 'numpy.int64'>\n"
          ]
        }
      ]
    },
    {
      "cell_type": "code",
      "source": [
        "model=keras.Sequential([\n",
        "  keras.layers.Embedding(input_dim=vocab_size,output_dim=2,input_length=max_length),\n",
        "  keras.layers.GlobalAveragePooling1D(),\n",
        "  keras.layers.Dense(30,activation=\"relu\"),\n",
        "  keras.layers.Dense(1,activation=\"sigmoid\")\n",
        "])\n",
        "\n",
        "model.compile(loss=\"binary_crossentropy\",optimizer='adam',metrics=['accuracy'])\n",
        "\n",
        "history=model.fit(training_padded,training_labels,epochs=5,verbose=2)"
      ],
      "metadata": {
        "id": "qyZofEklFjEN",
        "colab": {
          "base_uri": "https://localhost:8080/"
        },
        "outputId": "7d971810-477a-4a1c-e493-7a58c10712d2"
      },
      "execution_count": null,
      "outputs": [
        {
          "output_type": "stream",
          "name": "stdout",
          "text": [
            "Epoch 1/5\n",
            "625/625 - 1s - loss: 0.6678 - accuracy: 0.5816 - 1s/epoch - 2ms/step\n",
            "Epoch 2/5\n",
            "625/625 - 1s - loss: 0.4629 - accuracy: 0.8266 - 919ms/epoch - 1ms/step\n",
            "Epoch 3/5\n",
            "625/625 - 1s - loss: 0.3151 - accuracy: 0.8798 - 1s/epoch - 2ms/step\n",
            "Epoch 4/5\n",
            "625/625 - 1s - loss: 0.2497 - accuracy: 0.9064 - 925ms/epoch - 1ms/step\n",
            "Epoch 5/5\n",
            "625/625 - 1s - loss: 0.2049 - accuracy: 0.9230 - 933ms/epoch - 1ms/step\n"
          ]
        }
      ]
    },
    {
      "cell_type": "code",
      "source": [
        "model.evaluate(testing_padded,testing_labels)"
      ],
      "metadata": {
        "colab": {
          "base_uri": "https://localhost:8080/"
        },
        "id": "cqGpb6_IDLqi",
        "outputId": "b81df088-d59f-4b52-da61-c8e565058abd"
      },
      "execution_count": null,
      "outputs": [
        {
          "output_type": "stream",
          "name": "stdout",
          "text": [
            "210/210 [==============================] - 0s 1ms/step - loss: 0.3348 - accuracy: 0.8585\n"
          ]
        },
        {
          "output_type": "execute_result",
          "data": {
            "text/plain": [
              "[0.33477261662483215, 0.8585482239723206]"
            ]
          },
          "metadata": {},
          "execution_count": 34
        }
      ]
    },
    {
      "cell_type": "code",
      "source": [
        "sentence=['Mom Warns Son to ‘Watch Out for Idiots,’ Rear‑Ends His Motorcycle.',\n",
        "'CIA director William Burns says ties between Russia, Iran suffer from \"limits,\" lack of trust'\n",
        "]\n",
        "\n",
        "sequence=tokenizer.texts_to_sequences(sentence)\n",
        "sequence_padded=pad_sequences(sequence,maxlen=max_length,padding=\"post\")\n",
        "\n",
        "print(sequence_padded)\n",
        "print(get_key(1))"
      ],
      "metadata": {
        "colab": {
          "base_uri": "https://localhost:8080/"
        },
        "id": "pcdNhpfGDdJE",
        "outputId": "131d9894-0dce-4061-9a3b-0a8c9ff4800c"
      },
      "execution_count": null,
      "outputs": [
        {
          "output_type": "stream",
          "name": "stdout",
          "text": [
            "[[ 153  551  304    2    1   24    6 7744    1    1   33 3762    0    0\n",
            "     0    0    0    0    0    0    0    0    0    0    0    0    0    0\n",
            "     0    0]\n",
            " [1282  550 3904 2639   51 2184  379  466  549 4497   15 3549 1843    3\n",
            "  2654    0    0    0    0    0    0    0    0    0    0    0    0    0\n",
            "     0    0]]\n",
            "<OOV>\n"
          ]
        }
      ]
    },
    {
      "cell_type": "code",
      "source": [
        "predicted_values=model.predict(sequence_padded)\n",
        "for item in predicted_values:\n",
        "  if item>0.5:\n",
        "    print(item)\n",
        "    print(\"Sarcastic\")\n",
        "  else:\n",
        "    print(item)\n",
        "    print(\"Not Sarcastic\")"
      ],
      "metadata": {
        "colab": {
          "base_uri": "https://localhost:8080/"
        },
        "id": "4QmBcV4JFlM5",
        "outputId": "8e4c34a3-b5e1-420d-f4e1-0aa920b2703f"
      },
      "execution_count": null,
      "outputs": [
        {
          "output_type": "stream",
          "name": "stdout",
          "text": [
            "[0.84388745]\n",
            "Sarcastic\n",
            "[0.05980021]\n",
            "Not Sarcastic\n"
          ]
        }
      ]
    }
  ]
}